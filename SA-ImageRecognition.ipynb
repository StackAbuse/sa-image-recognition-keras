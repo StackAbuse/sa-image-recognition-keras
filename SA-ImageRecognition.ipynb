{
 "cells": [
  {
   "cell_type": "code",
   "execution_count": 60,
   "id": "12c57236",
   "metadata": {},
   "outputs": [],
   "source": [
    "import numpy\n",
    "from tensorflow import keras\n",
    "from keras.constraints import maxnorm\n",
    "from keras.utils import np_utils"
   ]
  },
  {
   "cell_type": "code",
   "execution_count": 61,
   "id": "06daf893",
   "metadata": {},
   "outputs": [],
   "source": [
    "seed = 21"
   ]
  },
  {
   "cell_type": "code",
   "execution_count": 62,
   "id": "cca0473f",
   "metadata": {},
   "outputs": [],
   "source": [
    "from keras.datasets import cifar10"
   ]
  },
  {
   "cell_type": "code",
   "execution_count": 63,
   "id": "3d516cf5",
   "metadata": {},
   "outputs": [],
   "source": [
    "(X_train, y_train), (X_test, y_test) = cifar10.load_data()"
   ]
  },
  {
   "cell_type": "code",
   "execution_count": 64,
   "id": "32105162",
   "metadata": {},
   "outputs": [],
   "source": [
    "X_train = X_train.astype('float32')\n",
    "X_test = X_test.astype('float32')\n",
    "X_train = X_train / 255.0\n",
    "X_test = X_test / 255.0"
   ]
  },
  {
   "cell_type": "code",
   "execution_count": 65,
   "id": "dd3290eb",
   "metadata": {},
   "outputs": [],
   "source": [
    "y_train = np_utils.to_categorical(y_train)\n",
    "y_test = np_utils.to_categorical(y_test)\n",
    "class_num = y_test.shape[1]"
   ]
  },
  {
   "cell_type": "code",
   "execution_count": 66,
   "id": "b7f63e44",
   "metadata": {},
   "outputs": [],
   "source": [
    "model = keras.Sequential()"
   ]
  },
  {
   "cell_type": "code",
   "execution_count": 67,
   "id": "020a725a",
   "metadata": {},
   "outputs": [
    {
     "name": "stdout",
     "output_type": "stream",
     "text": [
      "Model: \"sequential_10\"\n",
      "_________________________________________________________________\n",
      "Layer (type)                 Output Shape              Param #   \n",
      "=================================================================\n",
      "conv2d_47 (Conv2D)           (None, 32, 32, 32)        896       \n",
      "_________________________________________________________________\n",
      "dropout_56 (Dropout)         (None, 32, 32, 32)        0         \n",
      "_________________________________________________________________\n",
      "batch_normalization_49 (Batc (None, 32, 32, 32)        128       \n",
      "_________________________________________________________________\n",
      "conv2d_48 (Conv2D)           (None, 32, 32, 64)        18496     \n",
      "_________________________________________________________________\n",
      "max_pooling2d_22 (MaxPooling (None, 16, 16, 64)        0         \n",
      "_________________________________________________________________\n",
      "dropout_57 (Dropout)         (None, 16, 16, 64)        0         \n",
      "_________________________________________________________________\n",
      "batch_normalization_50 (Batc (None, 16, 16, 64)        256       \n",
      "_________________________________________________________________\n",
      "conv2d_49 (Conv2D)           (None, 16, 16, 64)        36928     \n",
      "_________________________________________________________________\n",
      "max_pooling2d_23 (MaxPooling (None, 8, 8, 64)          0         \n",
      "_________________________________________________________________\n",
      "dropout_58 (Dropout)         (None, 8, 8, 64)          0         \n",
      "_________________________________________________________________\n",
      "batch_normalization_51 (Batc (None, 8, 8, 64)          256       \n",
      "_________________________________________________________________\n",
      "conv2d_50 (Conv2D)           (None, 8, 8, 128)         73856     \n",
      "_________________________________________________________________\n",
      "dropout_59 (Dropout)         (None, 8, 8, 128)         0         \n",
      "_________________________________________________________________\n",
      "batch_normalization_52 (Batc (None, 8, 8, 128)         512       \n",
      "_________________________________________________________________\n",
      "flatten_7 (Flatten)          (None, 8192)              0         \n",
      "_________________________________________________________________\n",
      "dropout_60 (Dropout)         (None, 8192)              0         \n",
      "_________________________________________________________________\n",
      "dense_20 (Dense)             (None, 32)                262176    \n",
      "_________________________________________________________________\n",
      "dropout_61 (Dropout)         (None, 32)                0         \n",
      "_________________________________________________________________\n",
      "batch_normalization_53 (Batc (None, 32)                128       \n",
      "_________________________________________________________________\n",
      "dense_21 (Dense)             (None, 10)                330       \n",
      "=================================================================\n",
      "Total params: 393,962\n",
      "Trainable params: 393,322\n",
      "Non-trainable params: 640\n",
      "_________________________________________________________________\n",
      "None\n"
     ]
    }
   ],
   "source": [
    "model.add(keras.layers.Conv2D(32, 3, input_shape=(32, 32, 3), activation='relu', padding='same'))\n",
    "model.add(keras.layers.Dropout(0.2))\n",
    "model.add(keras.layers.BatchNormalization())\n",
    "\n",
    "model.add(keras.layers.Conv2D(64, (3, 3), padding='same', activation='relu'))\n",
    "model.add(keras.layers.MaxPooling2D(2))\n",
    "model.add(keras.layers.Dropout(0.2))\n",
    "model.add(keras.layers.BatchNormalization())\n",
    "\n",
    "model.add(keras.layers.Conv2D(64, 3, padding='same', activation='relu'))\n",
    "model.add(keras.layers.MaxPooling2D(2))\n",
    "model.add(keras.layers.Dropout(0.2))\n",
    "model.add(keras.layers.BatchNormalization())\n",
    "    \n",
    "model.add(keras.layers.Conv2D(128, (3, 3), padding='same', activation='relu'))\n",
    "model.add(keras.layers.Dropout(0.2))\n",
    "model.add(keras.layers.BatchNormalization())\n",
    "\n",
    "model.add(keras.layers.Flatten())\n",
    "model.add(keras.layers.Dropout(0.2))\n",
    "model.add(keras.layers.Dense(32, activation='relu'))\n",
    "model.add(keras.layers.Dropout(0.3))\n",
    "model.add(keras.layers.BatchNormalization())\n",
    "\n",
    "model.add(keras.layers.Dense(class_num, activation='softmax'))\n",
    "\n",
    "model.compile(loss='categorical_crossentropy', optimizer='adam', metrics=['accuracy'])\n",
    "\n",
    "print(model.summary())"
   ]
  },
  {
   "cell_type": "code",
   "execution_count": 68,
   "id": "c64da83b",
   "metadata": {
    "scrolled": true
   },
   "outputs": [
    {
     "name": "stdout",
     "output_type": "stream",
     "text": [
      "Epoch 1/25\n",
      "782/782 [==============================] - 10s 13ms/step - loss: 1.5481 - accuracy: 0.4472 - val_loss: 1.2485 - val_accuracy: 0.5553\n",
      "Epoch 2/25\n",
      "782/782 [==============================] - 10s 13ms/step - loss: 1.1079 - accuracy: 0.6089 - val_loss: 1.1272 - val_accuracy: 0.6083\n",
      "Epoch 3/25\n",
      "782/782 [==============================] - 10s 12ms/step - loss: 0.9619 - accuracy: 0.6644 - val_loss: 0.8725 - val_accuracy: 0.6897\n",
      "Epoch 4/25\n",
      "782/782 [==============================] - 9s 12ms/step - loss: 0.8664 - accuracy: 0.7004 - val_loss: 0.7257 - val_accuracy: 0.7455\n",
      "Epoch 5/25\n",
      "782/782 [==============================] - 9s 12ms/step - loss: 0.8058 - accuracy: 0.7232 - val_loss: 0.7501 - val_accuracy: 0.7418\n",
      "Epoch 6/25\n",
      "782/782 [==============================] - 9s 12ms/step - loss: 0.7581 - accuracy: 0.7385 - val_loss: 0.6475 - val_accuracy: 0.7734\n",
      "Epoch 7/25\n",
      "782/782 [==============================] - 9s 12ms/step - loss: 0.7203 - accuracy: 0.7535 - val_loss: 0.6496 - val_accuracy: 0.7742\n",
      "Epoch 8/25\n",
      "782/782 [==============================] - 9s 12ms/step - loss: 0.6832 - accuracy: 0.7674 - val_loss: 0.6621 - val_accuracy: 0.7723\n",
      "Epoch 9/25\n",
      "782/782 [==============================] - 10s 13ms/step - loss: 0.6646 - accuracy: 0.7696 - val_loss: 0.5981 - val_accuracy: 0.7937\n",
      "Epoch 10/25\n",
      "782/782 [==============================] - 11s 14ms/step - loss: 0.6392 - accuracy: 0.7783 - val_loss: 0.6352 - val_accuracy: 0.7834\n",
      "Epoch 11/25\n",
      "782/782 [==============================] - 10s 13ms/step - loss: 0.6187 - accuracy: 0.7888 - val_loss: 0.5892 - val_accuracy: 0.7972\n",
      "Epoch 12/25\n",
      "782/782 [==============================] - 9s 12ms/step - loss: 0.6009 - accuracy: 0.7911 - val_loss: 0.6080 - val_accuracy: 0.7920\n",
      "Epoch 13/25\n",
      "782/782 [==============================] - 9s 12ms/step - loss: 0.5851 - accuracy: 0.7978 - val_loss: 0.5694 - val_accuracy: 0.8057\n",
      "Epoch 14/25\n",
      "782/782 [==============================] - 9s 12ms/step - loss: 0.5654 - accuracy: 0.8056 - val_loss: 0.5868 - val_accuracy: 0.8004\n",
      "Epoch 15/25\n",
      "782/782 [==============================] - 9s 12ms/step - loss: 0.5498 - accuracy: 0.8111 - val_loss: 0.5623 - val_accuracy: 0.8069\n",
      "Epoch 16/25\n",
      "782/782 [==============================] - 9s 12ms/step - loss: 0.5402 - accuracy: 0.8123 - val_loss: 0.5584 - val_accuracy: 0.8116\n",
      "Epoch 17/25\n",
      "782/782 [==============================] - 10s 12ms/step - loss: 0.5315 - accuracy: 0.8166 - val_loss: 0.5408 - val_accuracy: 0.8165\n",
      "Epoch 18/25\n",
      "782/782 [==============================] - 9s 12ms/step - loss: 0.5202 - accuracy: 0.8185 - val_loss: 0.5359 - val_accuracy: 0.8135\n",
      "Epoch 19/25\n",
      "782/782 [==============================] - 9s 12ms/step - loss: 0.5163 - accuracy: 0.8212 - val_loss: 0.5598 - val_accuracy: 0.8110\n",
      "Epoch 20/25\n",
      "782/782 [==============================] - 9s 12ms/step - loss: 0.5096 - accuracy: 0.8221 - val_loss: 0.5967 - val_accuracy: 0.8055\n",
      "Epoch 21/25\n",
      "782/782 [==============================] - 9s 12ms/step - loss: 0.4991 - accuracy: 0.8273 - val_loss: 0.5244 - val_accuracy: 0.8219\n",
      "Epoch 22/25\n",
      "782/782 [==============================] - 10s 13ms/step - loss: 0.4887 - accuracy: 0.8290 - val_loss: 0.6366 - val_accuracy: 0.7898\n",
      "Epoch 23/25\n",
      "782/782 [==============================] - 9s 12ms/step - loss: 0.4828 - accuracy: 0.8322 - val_loss: 0.5314 - val_accuracy: 0.8192\n",
      "Epoch 24/25\n",
      "782/782 [==============================] - 9s 12ms/step - loss: 0.4752 - accuracy: 0.8340 - val_loss: 0.5383 - val_accuracy: 0.8202\n",
      "Epoch 25/25\n",
      "782/782 [==============================] - 10s 13ms/step - loss: 0.4716 - accuracy: 0.8349 - val_loss: 0.5179 - val_accuracy: 0.8238\n"
     ]
    }
   ],
   "source": [
    "numpy.random.seed(seed)\n",
    "history = model.fit(X_train, y_train, validation_data=(X_test, y_test), epochs=25, batch_size=64)"
   ]
  },
  {
   "cell_type": "code",
   "execution_count": 69,
   "id": "1d0da20c",
   "metadata": {},
   "outputs": [
    {
     "data": {
      "text/plain": [
       "[0.5178693532943726, 0.8238000273704529]"
      ]
     },
     "execution_count": 69,
     "metadata": {},
     "output_type": "execute_result"
    }
   ],
   "source": [
    "model.evaluate(X_test, y_test, verbose=0)"
   ]
  },
  {
   "cell_type": "code",
   "execution_count": 70,
   "id": "4025dde9",
   "metadata": {},
   "outputs": [
    {
     "data": {
      "image/png": "[encoded data removed]",
      "text/plain": [
       "<Figure size 432x288 with 1 Axes>"
      ]
     },
     "metadata": {
      "needs_background": "light"
     },
     "output_type": "display_data"
    }
   ],
   "source": [
    "import pandas as pd\n",
    "import matplotlib.pyplot as plt\n",
    "\n",
    "pd.DataFrame(history.history).plot()\n",
    "plt.show()"
   ]
  }
 ],
 "metadata": {
  "kernelspec": {
   "display_name": "Python 3 (ipykernel)",
   "language": "python",
   "name": "python3"
  },
  "language_info": {
   "codemirror_mode": {
    "name": "ipython",
    "version": 3
   },
   "file_extension": ".py",
   "mimetype": "text/x-python",
   "name": "python",
   "nbconvert_exporter": "python",
   "pygments_lexer": "ipython3",
   "version": "3.7.0"
  }
 },
 "nbformat": 4,
 "nbformat_minor": 5
}
